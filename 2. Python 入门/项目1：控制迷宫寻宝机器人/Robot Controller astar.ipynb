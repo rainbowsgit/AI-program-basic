{
 "cells": [
  {
   "cell_type": "code",
   "execution_count": 16,
   "metadata": {},
   "outputs": [
    {
     "name": "stdout",
     "output_type": "stream",
     "text": [
      "maze-id 1-1529745244\n",
      "[[0, 0, 0, 0, 0, 2, 3],\n",
      " [1, 2, 2, 2, 0, 2, 0],\n",
      " [2, 0, 0, 0, 0, 2, 0],\n",
      " [2, 2, 2, 2, 0, 0, 0]]\n",
      "迷宫共有 4 行 7 列\n",
      "起点：(1, 0)\n",
      "终点：(0, 6)\n"
     ]
    }
   ],
   "source": [
    "import helper\n",
    "\n",
    "env_data = helper.fetch_maze()\n",
    "\n",
    "#TODO 1模拟环境的行数\n",
    "rows = len(env_data)\n",
    "\n",
    "#TODO 2模拟环境的列数\n",
    "columns = len(env_data[0])\n",
    "\n",
    "print(\"迷宫共有\", rows, \"行\", columns, \"列\")\n",
    "\n",
    "#寻找起点和终点位置\n",
    "loc_map = {\"start\" : None , \"destination\" : None} #TODO 6按照上述要求创建字典\n",
    "for i in range(rows):\n",
    "    for j in range(columns):\n",
    "        if env_data[i][j] == 1:\n",
    "            loc_map[\"start\"] = (i,j)\n",
    "        elif env_data[i][j] == 3:\n",
    "            loc_map[\"destination\"] = (i,j)\n",
    "\n",
    "print(\"起点：{}\\n终点：{}\".format(loc_map[\"start\"],loc_map[\"destination\"])) #TODO 7保存机器人当前的位置"
   ]
  },
  {
   "cell_type": "code",
   "execution_count": 26,
   "metadata": {},
   "outputs": [],
   "source": [
    "def is_move_valid(env_data, loc, act):\n",
    "    \"\"\"\n",
    "    Judge wether the robot can take action act\n",
    "    at location loc.\n",
    "    \n",
    "    Keyword arguments:\n",
    "    env -- list, the environment data\n",
    "    loc -- tuple, robots current location\n",
    "    act -- string, robots meant action\n",
    "    \"\"\"\n",
    "    #TODO 9\n",
    "    next_loc = list(loc)\n",
    "    if act == \"u\":\n",
    "        next_loc[0] -= 1\n",
    "    elif act == \"d\":\n",
    "        next_loc[0] += 1\n",
    "    elif act == \"l\":\n",
    "        next_loc[1] -= 1\n",
    "    elif act == \"r\":\n",
    "        next_loc[1] += 1\n",
    "    #print(next_loc)\n",
    "    if 0 <= next_loc[0] < len(env_data) and 0 <= next_loc[1] < len(env_data[0]) and env_data[next_loc[0]][next_loc[1]] != 2:\n",
    "        return True\n",
    "    else:\n",
    "        return False\n",
    "    \n",
    "    \n",
    "def valid_actions(env_data, loc):\n",
    "    valid_acts = []\n",
    "    if is_move_valid(env_data, loc, \"u\"): \n",
    "        valid_acts.append(\"u\")\n",
    "    if is_move_valid(env_data, loc, \"d\"): \n",
    "        valid_acts.append(\"d\")\n",
    "    if is_move_valid(env_data, loc, \"l\"): \n",
    "        valid_acts.append(\"l\")\n",
    "    if is_move_valid(env_data, loc, \"r\"): \n",
    "        valid_acts.append(\"r\")\n",
    "    return valid_acts\n",
    "\n",
    "\n",
    "def move_robot(loc, act):\n",
    "    if act == \"u\":\n",
    "        return loc[0] - 1, loc[1]\n",
    "    elif act == \"d\":\n",
    "        return loc[0] + 1, loc[1]\n",
    "    elif act == \"l\":\n",
    "        return loc[0], loc[1] - 1\n",
    "    elif act == \"r\":\n",
    "        return loc[0], loc[1] + 1\n",
    "    else:\n",
    "        return loc"
   ]
  },
  {
   "cell_type": "code",
   "execution_count": 27,
   "metadata": {},
   "outputs": [],
   "source": [
    "def h_value(current_loc, end_loc):\n",
    "    return abs(current_loc[0] - end_loc[0]) + abs(current_loc[1] - end_loc[1])"
   ]
  },
  {
   "cell_type": "code",
   "execution_count": null,
   "metadata": {},
   "outputs": [],
   "source": [
    "def astar_pathfinding(env_data, start_loc, end_loc):\n",
    "    '''\n",
    "    在地图env_data中寻找从start_loc到destination_loc的可行路径\n",
    "    env_data：地图数据，2维列表数据格式\n",
    "    start_loc：起始位置，(x , y)元组数据格式\n",
    "    end_loc：目标位置，(x , y)元组数据格式\n",
    "    函数返回一个路径列表，列表的每个元素为代表地图位置的(x , y)元组数据\n",
    "    路径排序算法f = g + h，g值为从起点到指定节点的路径代价，h值为从指定节点到终点的估算路径代价\n",
    "    '''\n",
    "    final_path = []\n",
    "    open_list = {}\n",
    "    close_list = {}\n",
    "    #将起点放入open list中，并设置f,g,h值为0，设置父节点为自身，用字典复合数据结构\n",
    "    start_to_end = h_value(start_loc, end_loc)\n",
    "    open_list[start_loc] = [start_to_end, 0, start_to_end, start_loc]\n",
    "    \n",
    "    #对open list中的数据进行排序\n",
    "    \n",
    "    #在open list中选择f值最小的一个节点，设为当前节点，放入close list中\n",
    "    \n",
    "    #对当前节点上下左右4个节点进行计算分析\n",
    "    #如果已经在close list中或属于不可通过节点或超出边界，则直接忽略\n",
    "    #如果可通过则加入open list\n",
    "    while end_loc not in open_list:\n",
    "        cur_loc = sorted(open_list, key=open_list.__getitem__)[0]\n",
    "        for act in [\"u\",\"d\",\"l\",\"r\"]:\n",
    "            if is_move_valid(env_data, cur_loc, act):\n",
    "                next_loc = move_robot(cur_loc, act)\n",
    "                if next_loc not in close_list:\n",
    "                    g = open_list[cur_loc][1] + 1\n",
    "                    if next_loc not in open_list:\n",
    "                        h = h_value(next_loc, end_loc)\n",
    "                        open_list[next_loc] = [g + h, g, h, cur_loc]\n",
    "                    elif g < open_list[next_loc][1]:\n",
    "                        open_list[next_loc] = [g+ h, g, h, cur_loc]\n",
    "        close_list[cur_loc] = open_list[cur_loc]\n",
    "        del open_list[cur_loc]\n",
    "    \n",
    "    #计算并更新f,g,h值\n",
    "    \n",
    "    \n",
    "\n",
    "\n",
    "        \n",
    "    print(open_list)\n",
    "    #print(destination_loc not in open_list)\n",
    "    final_path = open_list.keys()\n",
    "    return final_path"
   ]
  },
  {
   "cell_type": "code",
   "execution_count": 12,
   "metadata": {},
   "outputs": [
    {
     "name": "stdout",
     "output_type": "stream",
     "text": [
      "{'(3,4)': [4, 2, 2, (1, 2)]}\n"
     ]
    }
   ],
   "source": [
    "dict_test = {}\n",
    "dict_test[\"(3,4)\"] = [4,2,2,(1,2)]\n",
    "print(dict_test)\n",
    "#dict_test = {\"(0,0)\": [0,2,3,(0,2)], \"(1,1)\": [1,1,2,(1,1)], \"(0,2)\": [2,1,1,(3,4)]}\n",
    "#print(dict_test)\n",
    "#first_pos = sorted(dic_test, key=dict_test.__getitem__)[0]\n",
    "#print(first_pos)"
   ]
  },
  {
   "cell_type": "code",
   "execution_count": 29,
   "metadata": {},
   "outputs": [
    {
     "name": "stdout",
     "output_type": "stream",
     "text": [
      "1\n",
      "2\n",
      "3\n"
     ]
    }
   ],
   "source": [
    "for i in [1,2,3]:\n",
    "    print(i)\n",
    "    "
   ]
  },
  {
   "cell_type": "code",
   "execution_count": null,
   "metadata": {},
   "outputs": [],
   "source": []
  }
 ],
 "metadata": {
  "kernelspec": {
   "display_name": "Python 3",
   "language": "python",
   "name": "python3"
  },
  "language_info": {
   "codemirror_mode": {
    "name": "ipython",
    "version": 3
   },
   "file_extension": ".py",
   "mimetype": "text/x-python",
   "name": "python",
   "nbconvert_exporter": "python",
   "pygments_lexer": "ipython3",
   "version": "3.6.5"
  }
 },
 "nbformat": 4,
 "nbformat_minor": 2
}
